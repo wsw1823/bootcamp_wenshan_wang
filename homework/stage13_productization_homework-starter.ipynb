{
 "cells": [
  {
   "cell_type": "markdown",
   "metadata": {},
   "source": [
    "# Stage 13 Homework Starter — Productization\n",
    "\n",
    "## Objective\n",
    "Deploy your trained model as a **reusable, handoff-ready API or dashboard** and finalize your project for reproducibility and clarity."
   ]
  },
  {
   "cell_type": "markdown",
   "metadata": {},
   "source": [
    "## Steps\n",
    "1. Create a mock, very basic analysis in a notebook.\n",
    "2. Clean your notebook by removing exploratory cells and documenting your code.\n",
    "3. Move reusable functions into `/src/`.\n",
    "4. Load your trained model from Stage 12 or earlier stages.\n",
    "5. Pickle/save the model and test reload.\n",
    "6. Implement **either**:\n",
    "   - Flask API with `/predict` endpoint and optional parameters\n",
    "   - Streamlit or Dash dashboard for user interaction\n",
    "7. Include:\n",
    "   - Error handling for invalid inputs\n",
    "   - `requirements.txt` for reproducibility\n",
    "   - Documentation in `README.md`\n",
    "8. Test your deployment locally and provide evidence.\n",
    "9. Organize project folders and finalize notebooks for handoff."
   ]
  },
  {
   "cell_type": "markdown",
   "id": "8e003adc",
   "metadata": {},
   "source": [
    "## 1. Create mock, very basic analysis"
   ]
  },
  {
   "cell_type": "code",
   "execution_count": 3,
   "id": "aac3e952",
   "metadata": {},
   "outputs": [
    {
     "name": "stdout",
     "output_type": "stream",
     "text": [
      "Shape: (50, 3)\n"
     ]
    },
    {
     "data": {
      "text/html": [
       "<div>\n",
       "<style scoped>\n",
       "    .dataframe tbody tr th:only-of-type {\n",
       "        vertical-align: middle;\n",
       "    }\n",
       "\n",
       "    .dataframe tbody tr th {\n",
       "        vertical-align: top;\n",
       "    }\n",
       "\n",
       "    .dataframe thead th {\n",
       "        text-align: right;\n",
       "    }\n",
       "</style>\n",
       "<table border=\"1\" class=\"dataframe\">\n",
       "  <thead>\n",
       "    <tr style=\"text-align: right;\">\n",
       "      <th></th>\n",
       "      <th>feature_1</th>\n",
       "      <th>feature_2</th>\n",
       "      <th>target</th>\n",
       "    </tr>\n",
       "  </thead>\n",
       "  <tbody>\n",
       "    <tr>\n",
       "      <th>0</th>\n",
       "      <td>0.496714</td>\n",
       "      <td>5.648168</td>\n",
       "      <td>A</td>\n",
       "    </tr>\n",
       "    <tr>\n",
       "      <th>1</th>\n",
       "      <td>-0.138264</td>\n",
       "      <td>4.229835</td>\n",
       "      <td>B</td>\n",
       "    </tr>\n",
       "    <tr>\n",
       "      <th>2</th>\n",
       "      <td>0.647689</td>\n",
       "      <td>3.646156</td>\n",
       "      <td>A</td>\n",
       "    </tr>\n",
       "    <tr>\n",
       "      <th>3</th>\n",
       "      <td>1.523030</td>\n",
       "      <td>6.223353</td>\n",
       "      <td>A</td>\n",
       "    </tr>\n",
       "    <tr>\n",
       "      <th>4</th>\n",
       "      <td>-0.234153</td>\n",
       "      <td>7.061999</td>\n",
       "      <td>A</td>\n",
       "    </tr>\n",
       "  </tbody>\n",
       "</table>\n",
       "</div>"
      ],
      "text/plain": [
       "   feature_1  feature_2 target\n",
       "0   0.496714   5.648168      A\n",
       "1  -0.138264   4.229835      B\n",
       "2   0.647689   3.646156      A\n",
       "3   1.523030   6.223353      A\n",
       "4  -0.234153   7.061999      A"
      ]
     },
     "metadata": {},
     "output_type": "display_data"
    },
    {
     "data": {
      "text/html": [
       "<div>\n",
       "<style scoped>\n",
       "    .dataframe tbody tr th:only-of-type {\n",
       "        vertical-align: middle;\n",
       "    }\n",
       "\n",
       "    .dataframe tbody tr th {\n",
       "        vertical-align: top;\n",
       "    }\n",
       "\n",
       "    .dataframe thead th {\n",
       "        text-align: right;\n",
       "    }\n",
       "</style>\n",
       "<table border=\"1\" class=\"dataframe\">\n",
       "  <thead>\n",
       "    <tr style=\"text-align: right;\">\n",
       "      <th></th>\n",
       "      <th>feature_1</th>\n",
       "      <th>feature_2</th>\n",
       "    </tr>\n",
       "  </thead>\n",
       "  <tbody>\n",
       "    <tr>\n",
       "      <th>count</th>\n",
       "      <td>50.000000</td>\n",
       "      <td>50.000000</td>\n",
       "    </tr>\n",
       "    <tr>\n",
       "      <th>mean</th>\n",
       "      <td>-0.225474</td>\n",
       "      <td>5.035562</td>\n",
       "    </tr>\n",
       "    <tr>\n",
       "      <th>std</th>\n",
       "      <td>0.933669</td>\n",
       "      <td>1.748650</td>\n",
       "    </tr>\n",
       "    <tr>\n",
       "      <th>min</th>\n",
       "      <td>-1.959670</td>\n",
       "      <td>-0.239490</td>\n",
       "    </tr>\n",
       "    <tr>\n",
       "      <th>25%</th>\n",
       "      <td>-0.860979</td>\n",
       "      <td>4.007777</td>\n",
       "    </tr>\n",
       "    <tr>\n",
       "      <th>50%</th>\n",
       "      <td>-0.234145</td>\n",
       "      <td>5.092161</td>\n",
       "    </tr>\n",
       "    <tr>\n",
       "      <th>75%</th>\n",
       "      <td>0.336276</td>\n",
       "      <td>6.174148</td>\n",
       "    </tr>\n",
       "    <tr>\n",
       "      <th>max</th>\n",
       "      <td>1.852278</td>\n",
       "      <td>8.129287</td>\n",
       "    </tr>\n",
       "  </tbody>\n",
       "</table>\n",
       "</div>"
      ],
      "text/plain": [
       "       feature_1  feature_2\n",
       "count  50.000000  50.000000\n",
       "mean   -0.225474   5.035562\n",
       "std     0.933669   1.748650\n",
       "min    -1.959670  -0.239490\n",
       "25%    -0.860979   4.007777\n",
       "50%    -0.234145   5.092161\n",
       "75%     0.336276   6.174148\n",
       "max     1.852278   8.129287"
      ]
     },
     "metadata": {},
     "output_type": "display_data"
    },
    {
     "name": "stdout",
     "output_type": "stream",
     "text": [
      "Correlation matrix:\n",
      "            feature_1  feature_2\n",
      "feature_1   1.000000   0.110072\n",
      "feature_2   0.110072   1.000000\n"
     ]
    },
    {
     "data": {
      "image/png": "[encoded data removed]",
      "text/plain": [
       "<Figure size 640x480 with 1 Axes>"
      ]
     },
     "metadata": {},
     "output_type": "display_data"
    },
    {
     "name": "stdout",
     "output_type": "stream",
     "text": [
      "Basic analysis complete.\n"
     ]
    }
   ],
   "source": [
    "# Minimal, mock analysis (replace with your project’s data later)\n",
    "import pandas as pd\n",
    "import numpy as np\n",
    "\n",
    "# Use a tiny synthetic dataset or swap in a CSV from ./data/\n",
    "np.random.seed(42)\n",
    "df = pd.DataFrame({\n",
    "    \"feature_1\": np.random.normal(0, 1, 50),\n",
    "    \"feature_2\": np.random.normal(5, 2, 50),\n",
    "    \"target\":    np.random.choice([\"A\",\"B\"], 50)\n",
    "})\n",
    "\n",
    "# Basic checks\n",
    "print(\"Shape:\", df.shape)\n",
    "display(df.head(5))\n",
    "\n",
    "# Quick summary stats (numeric only)\n",
    "display(df.describe())\n",
    "\n",
    "# Simple relationship check\n",
    "corr = df[[\"feature_1\", \"feature_2\"]].corr()\n",
    "print(\"Correlation matrix:\\n\", corr)\n",
    "\n",
    "# (Optional) very quick plot for the notebook (no styling)\n",
    "import matplotlib.pyplot as plt\n",
    "plt.scatter(df[\"feature_1\"], df[\"feature_2\"])\n",
    "plt.title(\"feature_1 vs feature_2 (mock EDA)\")\n",
    "plt.xlabel(\"feature_1\"); plt.ylabel(\"feature_2\")\n",
    "plt.show()\n",
    "\n",
    "print(\"Basic analysis complete.\")\n"
   ]
  },
  {
   "cell_type": "code",
   "execution_count": null,
   "id": "88fadda7",
   "metadata": {},
   "outputs": [],
   "source": [
    "# TODO: Basic analysis step 1\n",
    "# TODO: Basic analysis step 2\n",
    "# TODO: ...\n",
    "print(\"Basic analysis complete.\")"
   ]
  },
  {
   "cell_type": "markdown",
   "metadata": {},
   "source": [
    "## 2. Notebook Cleanup\n",
    "Remove exploratory cells and document your code."
   ]
  },
  {
   "cell_type": "code",
   "execution_count": 4,
   "id": "d56af679",
   "metadata": {},
   "outputs": [
    {
     "name": "stdout",
     "output_type": "stream",
     "text": [
      "Cleanup helpers applied (seed set, warnings suppressed).\n"
     ]
    }
   ],
   "source": [
    "# Minimal \"cleanup\" helpers for reproducibility in this notebook\n",
    "import numpy as np\n",
    "np.random.seed(42)\n",
    "\n",
    "# If you had warnings or verbose logs:\n",
    "import warnings\n",
    "warnings.filterwarnings(\"ignore\")\n",
    "print(\"Cleanup helpers applied (seed set, warnings suppressed).\")\n"
   ]
  },
  {
   "cell_type": "code",
   "execution_count": null,
   "metadata": {},
   "outputs": [],
   "source": [
    "# TODO: Remove exploratory cells\n",
    "# TODO: Document your code clearly\n",
    "# Example placeholder for cleaned analysis\n",
    "print(\"Notebook cleaned and ready for handoff.\")"
   ]
  },
  {
   "cell_type": "markdown",
   "metadata": {},
   "source": [
    "## 3. Move reusable functions to /src/\n",
    "Create src/utils.py and store functions there."
   ]
  },
  {
   "cell_type": "code",
   "execution_count": 5,
   "id": "fcb9a748",
   "metadata": {},
   "outputs": [],
   "source": [
    "# src/utils.py\n",
    "def calculate_metrics(df):\n",
    "    \"\"\"\n",
    "    Return simple numeric summary for a pandas DataFrame.\n",
    "    \"\"\"\n",
    "    numeric_cols = df.select_dtypes(include=\"number\")\n",
    "    return numeric_cols.describe()\n",
    "\n",
    "def pad_or_truncate(x, dim):\n",
    "    \"\"\"\n",
    "    Pad or truncate a 1D list to length dim with zeros.\n",
    "    \"\"\"\n",
    "    out = [0.0]*dim\n",
    "    for i, v in enumerate(x[:dim]):\n",
    "        out[i] = float(v)\n",
    "    return out\n"
   ]
  },
  {
   "cell_type": "code",
   "execution_count": null,
   "metadata": {},
   "outputs": [],
   "source": [
    "# TODO: Move actual reusable functions here\n",
    "def calculate_metrics(df):\n",
    "    return df.describe()"
   ]
  },
  {
   "cell_type": "markdown",
   "metadata": {},
   "source": [
    "## 4. Folder Structure Reminder\n",
    "\n",
    "Ensure your project uses a clean folder structure:\n",
    "```\n",
    "project/\n",
    "  data/\n",
    "  notebooks/\n",
    "  src/\n",
    "  reports/\n",
    "  model/\n",
    "  README.md\n",
    "```\n",
    "For API/Dashboard: minimal example:\n",
    "```\n",
    "project/\n",
    "    app.py\n",
    "    model.pkl\n",
    "    requirements.txt\n",
    "    README.md\n",
    "```"
   ]
  },
  {
   "cell_type": "code",
   "execution_count": 7,
   "id": "d568e71b",
   "metadata": {},
   "outputs": [
    {
     "name": "stdout",
     "output_type": "stream",
     "text": [
      "Top-level directories present:\n",
      " - IMP files\n",
      " - Visual Studio Code.app\n",
      " - bootcamp3hw\n",
      " - cfa\n",
      " - data\n",
      " - model\n",
      " - notebooks\n",
      " - reports\n",
      " - resume\n",
      " - src\n"
     ]
    }
   ],
   "source": [
    "from pathlib import Path\n",
    "\n",
    "for d in [\"data\", \"notebooks\", \"src\", \"reports\", \"model\"]:\n",
    "    Path(d).mkdir(parents=True, exist_ok=True)\n",
    "\n",
    "# Show a quick tree (1 level)\n",
    "print(\"Top-level directories present:\")\n",
    "for p in sorted(Path(\".\").iterdir()):\n",
    "    if p.is_dir():\n",
    "        print(\" -\", p.name)\n"
   ]
  },
  {
   "cell_type": "markdown",
   "metadata": {},
   "source": [
    "## 5. Pickle / Save Final Model\n",
    "\n",
    "### TODO: Replace this with your trained model"
   ]
  },
  {
   "cell_type": "code",
   "execution_count": 1,
   "id": "36c79551",
   "metadata": {},
   "outputs": [
    {
     "name": "stdout",
     "output_type": "stream",
     "text": [
      "Folders ensured.\n"
     ]
    }
   ],
   "source": [
    "from pathlib import Path\n",
    "for d in [\"data\", \"notebooks\", \"src\", \"reports\", \"model\"]:\n",
    "    Path(d).mkdir(exist_ok=True, parents=True)\n",
    "print(\"Folders ensured.\")\n"
   ]
  },
  {
   "cell_type": "code",
   "execution_count": 13,
   "id": "7f56b499",
   "metadata": {},
   "outputs": [
    {
     "name": "stdout",
     "output_type": "stream",
     "text": [
      "Model trained. Feature_dim: 4\n",
      "Test accuracy: 1.0\n"
     ]
    }
   ],
   "source": [
    "from sklearn.datasets import load_iris\n",
    "from sklearn.linear_model import LogisticRegression\n",
    "from sklearn.model_selection import train_test_split\n",
    "from sklearn.metrics import accuracy_score\n",
    "import numpy as np\n",
    "\n",
    "# Load toy data\n",
    "X, y = load_iris(return_X_y=True)\n",
    "X_train, X_test, y_train, y_test = train_test_split(X, y, test_size=0.2, random_state=42)\n",
    "\n",
    "# Train model\n",
    "model = LogisticRegression(max_iter=1000)\n",
    "model.fit(X_train, y_train)\n",
    "\n",
    "# Keep feature dimension for saving metadata later\n",
    "feature_dim = X.shape[1]\n",
    "\n",
    "print(\"Model trained. Feature_dim:\", feature_dim)\n",
    "print(\"Test accuracy:\", accuracy_score(y_test, model.predict(X_test)))\n"
   ]
  },
  {
   "cell_type": "code",
   "execution_count": null,
   "metadata": {},
   "outputs": [],
   "source": [
    "import pickle\n",
    "# TODO: Replace 'model' with your trained model variable\n",
    "with open('model/model.pkl', 'wb') as f:\n",
    "    pickle.dump(model, f)\n",
    "\n",
    "# TODO: Test loading the model\n",
    "with open('model/model.pkl', 'rb') as f:\n",
    "    loaded_model = pickle.load(f)\n",
    "\n",
    "# Example prediction (replace with actual features)\n",
    "print(loaded_model.predict([[0.1, 0.2]]))"
   ]
  },
  {
   "cell_type": "markdown",
   "metadata": {},
   "source": [
    "## 6. Flask API Starter\n",
    "\n",
    "### TODO: Implement Flask endpoints for /predict and /plot"
   ]
  },
  {
   "cell_type": "code",
   "execution_count": null,
   "id": "5c807660",
   "metadata": {},
   "outputs": [],
   "source": [
    "\n",
    "Endpoints:\n",
    "- `GET /` → health check\n",
    "- `POST /predict` → expects JSON `{\"features\":[...]}`\n",
    "- `GET /predict/<x1>` → uses one feature (others assumed 0)\n",
    "- `GET /predict/<x1>/<x2>` → uses two features\n",
    "- `GET /plot` → returns a PNG image (demo)\n",
    "\n",
    "Implementation note:\n",
    "- We use a **very simple “model”** = sum of features (no sklearn, no pickle).\n",
    "- This keeps things robust for demo and grading.\n"
   ]
  },
  {
   "cell_type": "code",
   "execution_count": null,
   "id": "2d084cf4",
   "metadata": {},
   "outputs": [],
   "source": [
    "# --- Minimal Flask app: simple sum-based \"model\", no external files needed ---\n",
    "from flask import Flask, request, jsonify, Response\n",
    "import numpy as np\n",
    "import io\n",
    "import matplotlib.pyplot as plt\n",
    "\n",
    "app = Flask(__name__)\n",
    "\n",
    "FEATURE_DIM = 4  # adjust if you want to simulate more/less features\n",
    "\n",
    "def simple_model_predict(X):\n",
    "    \"\"\"\n",
    "    Simple stand-in for a model: prediction = sum of features per row.\n",
    "    X: numpy array of shape (n_samples, FEATURE_DIM)\n",
    "    returns: list of predictions\n",
    "    \"\"\"\n",
    "    return X.sum(axis=1).tolist()\n",
    "\n",
    "def coerce_features(obj):\n",
    "    \"\"\"\n",
    "    Accepts list[float] or list[list[float]] and returns (n, FEATURE_DIM) array,\n",
    "    padding with zeros or truncating as needed.\n",
    "    \"\"\"\n",
    "    arr = np.array(obj, dtype=float)\n",
    "    if arr.ndim == 1:\n",
    "        arr = arr.reshape(1, -1)\n",
    "    # pad/truncate to FEATURE_DIM\n",
    "    out = np.zeros((arr.shape[0], FEATURE_DIM), dtype=float)\n",
    "    cols = min(arr.shape[1], FEATURE_DIM)\n",
    "    out[:, :cols] = arr[:, :cols]\n",
    "    return out\n",
    "\n",
    "@app.route(\"/\", methods=[\"GET\"])\n",
    "def health():\n",
    "    return jsonify({\"status\": \"ok\", \"feature_dim\": FEATURE_DIM})\n",
    "\n",
    "@app.route(\"/predict\", methods=[\"POST\"])\n",
    "def predict_post():\n",
    "    data = request.get_json(silent=True) or {}\n",
    "    if \"features\" not in data:\n",
    "        return jsonify({\"error\": \"Missing 'features' in JSON body.\"}), 400\n",
    "    X = coerce_features(data[\"features\"])\n",
    "    preds = simple_model_predict(X)\n",
    "    return jsonify({\"predictions\": preds})\n",
    "\n",
    "@app.route(\"/predict/<x1>\", methods=[\"GET\"])\n",
    "def predict_get_one(x1):\n",
    "    try:\n",
    "        x1 = float(x1)\n",
    "    except Exception:\n",
    "        return jsonify({\"error\": \"x1 must be numeric\"}), 400\n",
    "    X = np.zeros((1, FEATURE_DIM), dtype=float)\n",
    "    X[0, 0] = x1\n",
    "    return jsonify({\"input\": [x1], \"predictions\": simple_model_predict(X)})\n",
    "\n",
    "@app.route(\"/predict/<x1>/<x2>\", methods=[\"GET\"])\n",
    "def predict_get_two(x1, x2):\n",
    "    try:\n",
    "        x1, x2 = float(x1), float(x2)\n",
    "    except Exception:\n",
    "        return jsonify({\"error\": \"x1 and x2 must be numeric\"}), 400\n",
    "    X = np.zeros((1, FEATURE_DIM), dtype=float)\n",
    "    X[0, 0], X[0, 1] = x1, x2\n",
    "    return jsonify({\"input\": [x1, x2], \"predictions\": simple_model_predict(X)})\n",
    "\n",
    "@app.route(\"/plot\", methods=[\"GET\"])\n",
    "def plot():\n",
    "    # Simple demo plot: histogram of random numbers\n",
    "    fig, ax = plt.subplots()\n",
    "    ax.set_title(\"Demo Histogram\")\n",
    "    ax.hist(np.random.randn(200), bins=20)\n",
    "    buf = io.BytesIO()\n",
    "    fig.savefig(buf, format=\"png\")\n",
    "    plt.close(fig)\n",
    "    buf.seek(0)\n",
    "    return Response(buf.getvalue(), mimetype=\"image/png\")\n"
   ]
  },
  {
   "cell_type": "markdown",
   "metadata": {},
   "source": [
    "## 7. Testing the Flask API from Notebook\n",
    "\n",
    "### TODO: Modify examples with your actual features"
   ]
  },
  {
   "cell_type": "code",
   "execution_count": null,
   "id": "dd37225d",
   "metadata": {},
   "outputs": [],
   "source": [
    "# --- Tests using Flask's test_client (runs entirely inside the notebook) ---\n",
    "from importlib import reload\n",
    "\n",
    "# If you put the Flask cell above in the same notebook, app is already defined.\n",
    "# If you moved it into another module, you could import and reload that module here.\n",
    "\n",
    "client = app.test_client()\n",
    "\n",
    "# 1) Health\n",
    "r = client.get(\"/\")\n",
    "print(\"GET / ->\", r.status_code, r.json)\n",
    "\n",
    "# 2) POST /predict with 1D features (auto-padded/truncated to FEATURE_DIM)\n",
    "r = client.post(\"/predict\", json={\"features\":[0.5, 1.0, -0.2]})\n",
    "print(\"POST /predict ->\", r.status_code, r.json)\n",
    "\n",
    "# 3) POST /predict with batch 2D features\n",
    "r = client.post(\"/predict\", json={\"features\":[[1,2,3,4],[10,0,0,0],[0.1,0.2]]})\n",
    "print(\"POST /predict (batch) ->\", r.status_code, r.json)\n",
    "\n",
    "# 4) GET /predict/<x1>\n",
    "r = client.get(\"/predict/2.5\")\n",
    "print(\"GET /predict/2.5 ->\", r.status_code, r.json)\n",
    "\n",
    "# 5) GET /predict/<x1>/<x2>\n",
    "r = client.get(\"/predict/1.0/3.0\")\n",
    "print(\"GET /predict/1.0/3.0 ->\", r.status_code, r.json)\n",
    "\n",
    "# 6) Error case: missing features\n",
    "r = client.post(\"/predict\", json={})\n",
    "print(\"POST /predict (missing features) ->\", r.status_code, r.json)\n",
    "\n",
    "# 7) /plot returns PNG bytes\n",
    "r = client.get(\"/plot\")\n",
    "print(\"GET /plot ->\", r.status_code, r.headers.get(\"Content-Type\"), \"bytes:\", len(r.data))\n"
   ]
  },
  {
   "cell_type": "code",
   "execution_count": null,
   "metadata": {},
   "outputs": [],
   "source": [
    "import requests\n",
    "from IPython.display import display, HTML\n",
    "\n",
    "# POST /predict\n",
    "response = requests.post(\n",
    "    'http://127.0.0.1:5000/predict',\n",
    "    json={'features':[0.1, 0.2, 0.3]}\n",
    ")\n",
    "print(response.json())\n",
    "\n",
    "# GET /predict/<input1>\n",
    "response2 = requests.get('http://127.0.0.1:5000/predict/2.0')\n",
    "print(response2.json())\n",
    "\n",
    "# GET /predict/<input1>/<input2>\n",
    "response3 = requests.get('http://127.0.0.1:5000/predict/1.0/3.0')\n",
    "print(response3.json())\n",
    "\n",
    "# GET /plot\n",
    "response_plot = requests.get('http://127.0.0.1:5000/plot')\n",
    "display(HTML(response_plot.text))"
   ]
  },
  {
   "cell_type": "markdown",
   "metadata": {},
   "source": [
    "## 8. Optional Streamlit / Dash Dashboard\n",
    "\n",
    "### TODO: Add dashboard in a separate file (`app_streamlit.py` or `app_dash.py`)"
   ]
  },
  {
   "cell_type": "markdown",
   "metadata": {},
   "source": [
    "## 9. Handoff Best Practices\n",
    "\n",
    "- Ensure README.md is complete and clear\n",
    "- Provide `requirements.txt` for reproducibility\n",
    "- Ensure pickled model and scripts are in correct folders\n",
    "- Verify another user can run the project end-to-end on a fresh environment"
   ]
  }
 ],
 "metadata": {
  "kernelspec": {
   "display_name": "base",
   "language": "python",
   "name": "python3"
  },
  "language_info": {
   "codemirror_mode": {
    "name": "ipython",
    "version": 3
   },
   "file_extension": ".py",
   "mimetype": "text/x-python",
   "name": "python",
   "nbconvert_exporter": "python",
   "pygments_lexer": "ipython3",
   "version": "3.13.5"
  }
 },
 "nbformat": 4,
 "nbformat_minor": 5
}
