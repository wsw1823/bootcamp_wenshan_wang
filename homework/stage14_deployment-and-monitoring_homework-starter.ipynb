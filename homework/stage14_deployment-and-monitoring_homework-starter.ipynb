{
 "cells": [
  {
   "cell_type": "markdown",
   "metadata": {},
   "source": [
    "# Homework Starter — Stage 14: Deployment & Monitoring\n",
    "\n",
    "Use this template to draft your reflection and (optionally) sketch a dashboard."
   ]
  },
  {
   "cell_type": "markdown",
   "metadata": {},
   "source": [
    "## 1) Reflection (200–300 words)\n",
    "- Risks if deployed:\n",
    "- Monitoring metrics across layers (Data/Model/System/Business):\n",
    "- Ownership & handoffs:\n",
    "\n",
    "> Tip: Be specific (e.g., 'p95 latency > 250ms triggers on-call notification')."
   ]
  },
  {
   "cell_type": "markdown",
   "id": "7cf70e45",
   "metadata": {},
   "source": [
    "\n",
    "**Risks if deployed.** The main risks span four layers:  \n",
    "- **Data:** schema drift (columns renamed/missing), sudden distribution shifts (seasonality, promo events), stale data feeds.  \n",
    "- **Model:** concept drift (user behavior changes), overfitting to old regimes, silent degradation when retraining fails.  \n",
    "- **System:** API downtime, latency spikes, rate-limit abuse, dependency/version conflicts, insufficient observability.  \n",
    "- **Business:** misaligned outputs vs. goals, poor UX causing low adoption, ethical issues (fairness/consent), unclear ROI.\n",
    "\n",
    "**Monitoring & alerting (what/why/how/thresholds).**  \n",
    "- **Data quality:** row counts, null-rate, category explosion, schema hash; alert if null-rate > 2% or daily volume < 80% of 7-day median.  \n",
    "- **Drift:** PSI/KS for key features and predictions; warn at PSI ∈ [0.1, 0.2], alert at ≥ 0.2. Track pop-level calibration (Brier) and AUC; alert if AUC drops > 5% from a 30-day baseline.  \n",
    "- **Performance & cost:** p95 latency, error rate, QPS, GPU/CPU/memory; alert at p95 > 500 ms or 5xx > 1% for 5 min.  \n",
    "- **Business KPIs:** conversion/CTR, retention, revenue per session, manual override rate; alert if KPI deviates > 10% week-over-week.\n",
    "\n",
    "**Failure modes & runbooks.**  \n",
    "- **Data feed breaks:** auto-fallback to last known-good snapshot; page Data Eng; backfill and re-enable.  \n",
    "- **Model drift:** switch traffic to previous champion; open retrain ticket with fresh window; run bias & calibration checks before re-promote.  \n",
    "- **API incidents:** circuit-breakers + exponential backoff; rollback via blue/green; examine logs/traces, then root-cause.\n",
    "\n",
    "**Bias & ethics.**  \n",
    "Log input segments, measure disparate error rates, document use constraints, provide user recourse and opt-out where applicable.\n",
    "\n",
    "**Ownership & handoff.**  \n",
    "RACI: Product owns KPI targets; Data/ML owns data & model health; Platform owns infra SLOs. Ship with README, env pinning, IaC, dashboards links, on-call rota, and a one-page runbook so a new engineer can operate safely within an hour.\n"
   ]
  },
  {
   "cell_type": "markdown",
   "metadata": {},
   "source": [
    "## 2) Optional: Dashboard Sketch\n",
    "Describe panels and key charts. You can also attach an image file in your repo (png/pdf)."
   ]
  },
  {
   "cell_type": "code",
   "execution_count": 3,
   "metadata": {},
   "outputs": [
    {
     "data": {
      "text/plain": [
       "{'data': ['freshness_minutes', 'null_rate', 'schema_hash'],\n",
       " 'model': ['rolling_mae_or_auc', 'calibration_error'],\n",
       " 'system': ['p95_latency_ms', 'error_rate'],\n",
       " 'business': ['approval_rate', 'bad_rate']}"
      ]
     },
     "execution_count": 3,
     "metadata": {},
     "output_type": "execute_result"
    }
   ],
   "source": [
    "# Optional helper: simple structure to list metrics\n",
    "monitoring = {\n",
    "    'data': ['freshness_minutes', 'null_rate', 'schema_hash'],\n",
    "    'model': ['rolling_mae_or_auc', 'calibration_error'],\n",
    "    'system': ['p95_latency_ms', 'error_rate'],\n",
    "    'business': ['approval_rate', 'bad_rate']\n",
    "}\n",
    "monitoring"
   ]
  }
 ],
 "metadata": {
  "kernelspec": {
   "display_name": "base",
   "language": "python",
   "name": "python3"
  },
  "language_info": {
   "codemirror_mode": {
    "name": "ipython",
    "version": 3
   },
   "file_extension": ".py",
   "mimetype": "text/x-python",
   "name": "python",
   "nbconvert_exporter": "python",
   "pygments_lexer": "ipython3",
   "version": "3.13.5"
  }
 },
 "nbformat": 4,
 "nbformat_minor": 5
}
