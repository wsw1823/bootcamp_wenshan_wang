{
 "cells": [
  {
   "cell_type": "markdown",
   "metadata": {},
   "source": [
    "# Stage 09 — Homework Starter Notebook\n",
    "\n",
    "In the lecture, we learned how to create engineered features. Now it’s your turn to apply those ideas to your own project data."
   ]
  },
  {
   "cell_type": "code",
   "execution_count": 1,
   "metadata": {},
   "outputs": [
    {
     "data": {
      "text/html": [
       "<div>\n",
       "<style scoped>\n",
       "    .dataframe tbody tr th:only-of-type {\n",
       "        vertical-align: middle;\n",
       "    }\n",
       "\n",
       "    .dataframe tbody tr th {\n",
       "        vertical-align: top;\n",
       "    }\n",
       "\n",
       "    .dataframe thead th {\n",
       "        text-align: right;\n",
       "    }\n",
       "</style>\n",
       "<table border=\"1\" class=\"dataframe\">\n",
       "  <thead>\n",
       "    <tr style=\"text-align: right;\">\n",
       "      <th></th>\n",
       "      <th>income</th>\n",
       "      <th>monthly_spend</th>\n",
       "      <th>credit_score</th>\n",
       "    </tr>\n",
       "  </thead>\n",
       "  <tbody>\n",
       "    <tr>\n",
       "      <th>0</th>\n",
       "      <td>86460</td>\n",
       "      <td>3129</td>\n",
       "      <td>661</td>\n",
       "    </tr>\n",
       "    <tr>\n",
       "      <th>1</th>\n",
       "      <td>66002</td>\n",
       "      <td>1191</td>\n",
       "      <td>668</td>\n",
       "    </tr>\n",
       "    <tr>\n",
       "      <th>2</th>\n",
       "      <td>74681</td>\n",
       "      <td>1237</td>\n",
       "      <td>734</td>\n",
       "    </tr>\n",
       "    <tr>\n",
       "      <th>3</th>\n",
       "      <td>93613</td>\n",
       "      <td>2581</td>\n",
       "      <td>712</td>\n",
       "    </tr>\n",
       "    <tr>\n",
       "      <th>4</th>\n",
       "      <td>88013</td>\n",
       "      <td>1296</td>\n",
       "      <td>712</td>\n",
       "    </tr>\n",
       "  </tbody>\n",
       "</table>\n",
       "</div>"
      ],
      "text/plain": [
       "   income  monthly_spend  credit_score\n",
       "0   86460           3129           661\n",
       "1   66002           1191           668\n",
       "2   74681           1237           734\n",
       "3   93613           2581           712\n",
       "4   88013           1296           712"
      ]
     },
     "execution_count": 1,
     "metadata": {},
     "output_type": "execute_result"
    }
   ],
   "source": [
    "import pandas as pd\n",
    "import numpy as np\n",
    "\n",
    "# Example synthetic data (replace with your project dataset)\n",
    "np.random.seed(0)\n",
    "n = 100\n",
    "df = pd.DataFrame({\n",
    "    'income': np.random.normal(60000, 15000, n).astype(int),\n",
    "    'monthly_spend': np.random.normal(2000, 600, n).astype(int),\n",
    "    'credit_score': np.random.normal(680, 50, n).astype(int)\n",
    "})\n",
    "df.head()"
   ]
  },
  {
   "cell_type": "markdown",
   "metadata": {},
   "source": [
    "## TODO: Implement at least 2 engineered features here"
   ]
  },
  {
   "cell_type": "code",
   "execution_count": null,
   "metadata": {},
   "outputs": [],
   "source": [
    "# Example template:\n",
    "df['spend_income_ratio'] = df['monthly_spend'] / df['income']  # TODO: Your feature\n",
    "# Add rationale in markdown below"
   ]
  },
  {
   "cell_type": "code",
   "execution_count": null,
   "id": "47acb766",
   "metadata": {},
   "outputs": [],
   "source": [
    "# Feature 1: log1p transform on the first numeric column (robust to skew; safe for non-positive via shift)\n",
    "num_cols = df.select_dtypes(include=\"number\").columns.tolist()\n",
    "assert len(num_cols) >= 1, \"No numeric columns found.\"\n",
    "c0 = num_cols[0]\n",
    "\n",
    "x = df[c0]\n",
    "x_shift = x - x.min() + 1 if x.min() <= 0 else x  # ensure >=0 for log1p\n",
    "df[f\"{c0}_log1p\"] = np.log1p(x_shift)\n",
    "df[[c0, f\"{c0}_log1p\"]].head(3)\n"
   ]
  },
  {
   "cell_type": "markdown",
   "id": "4eced600",
   "metadata": {},
   "source": [
    "**Feature 1 — `log1p` of first numeric column**\n",
    "\n",
    "- **What:** `df[\"<c0>_log1p\"] = log1p(<c0> shifted to non-negative if needed)`\n",
    "- **Why:** Reduces right-skew and dampens extreme values observed in EDA, improving linear models’ stability and interpretability.\n",
    "- **When helpful:** Skewed/heavy-tailed variables; keeps all rows (no dropping).\n"
   ]
  },
  {
   "cell_type": "code",
   "execution_count": null,
   "id": "07ab43cc",
   "metadata": {},
   "outputs": [],
   "source": [
    "# Feature 2: z-score standardization of the same column (units-free comparability)\n",
    "mu = df[c0].mean()\n",
    "sigma = df[c0].std(ddof=0)\n",
    "df[f\"{c0}_z\"] = (df[c0] - mu) / sigma if sigma != 0 else 0.0\n",
    "df[[c0, f\"{c0}_z\"]].head(3)\n"
   ]
  },
  {
   "cell_type": "markdown",
   "id": "86130274",
   "metadata": {},
   "source": [
    "**Feature 2 — z-score of the first numeric column**\n",
    "\n",
    "- **What:** `(<c0> - mean)/std`\n",
    "- **Why:** Centers and scales to unit variance; useful when combining features on different scales or using regularized models.\n",
    "- **Note:** If std = 0 (constant column), returns 0s to avoid division errors.\n"
   ]
  },
  {
   "cell_type": "markdown",
   "metadata": {},
   "source": [
    "### Rationale for Feature 1\n",
    "Explain why this feature may help a model. Reference your EDA."
   ]
  },
  {
   "cell_type": "code",
   "execution_count": null,
   "metadata": {},
   "outputs": [],
   "source": [
    "# TODO: Add another feature\n",
    "# Example: df['rolling_spend_mean'] = df['monthly_spend'].rolling(3).mean()"
   ]
  },
  {
   "cell_type": "markdown",
   "metadata": {},
   "source": [
    "### Rationale for Feature 2\n",
    "Explain why this feature may help a model. Reference your EDA."
   ]
  }
 ],
 "metadata": {
  "kernelspec": {
   "display_name": "base",
   "language": "python",
   "name": "python3"
  },
  "language_info": {
   "codemirror_mode": {
    "name": "ipython",
    "version": 3
   },
   "file_extension": ".py",
   "mimetype": "text/x-python",
   "name": "python",
   "nbconvert_exporter": "python",
   "pygments_lexer": "ipython3",
   "version": "3.13.5"
  }
 },
 "nbformat": 4,
 "nbformat_minor": 5
}
