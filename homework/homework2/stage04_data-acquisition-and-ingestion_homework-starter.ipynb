{
 "cells": [
  {
   "cell_type": "markdown",
   "metadata": {},
   "source": [
    "# Homework Starter — Stage 04: Data Acquisition and Ingestion\n",
    "Name: wenshan wang\n",
    "Date: 8/17\n",
    "\n",
    "## Objectives\n",
    "- API ingestion with secrets in `.env`\n",
    "- Scrape a permitted public table\n",
    "- Validate and save raw data to `data/raw/`"
   ]
  },
  {
   "cell_type": "code",
   "execution_count": 5,
   "metadata": {},
   "outputs": [
    {
     "name": "stdout",
     "output_type": "stream",
     "text": [
      "ALPHAVANTAGE_API_KEY loaded? True\n"
     ]
    }
   ],
   "source": [
    "import os, pathlib, datetime as dt\n",
    "import requests\n",
    "import pandas as pd\n",
    "from bs4 import BeautifulSoup\n",
    "from dotenv import load_dotenv\n",
    "RAW = pathlib.Path('data/raw'); RAW.mkdir(parents=True, exist_ok=True)\n",
    "from pathlib import Path\n",
    "env_path = Path(\".\") / \".env\"\n",
    "content = \"ALPHAVANTAGE_API_KEY=zxcvbnm\\n\"\n",
    "env_path.write_text(content, encoding=\"utf-8\")\n",
    "load_dotenv(); print('ALPHAVANTAGE_API_KEY loaded?', bool(os.getenv('ALPHAVANTAGE_API_KEY')))"
   ]
  },
  {
   "cell_type": "markdown",
   "metadata": {},
   "source": [
    "## Helpers (use or modify)"
   ]
  },
  {
   "cell_type": "code",
   "execution_count": 6,
   "metadata": {},
   "outputs": [],
   "source": [
    "def ts():\n",
    "    return dt.datetime.now().strftime('%Y%m%d-%H%M%S')\n",
    "\n",
    "def save_csv(df: pd.DataFrame, prefix: str, **meta):\n",
    "    mid = '_'.join([f\"{k}-{v}\" for k,v in meta.items()])\n",
    "    path = RAW / f\"{prefix}_{mid}_{ts()}.csv\"\n",
    "    df.to_csv(path, index=False)\n",
    "    print('Saved', path)\n",
    "    return path\n",
    "\n",
    "def validate(df: pd.DataFrame, required):\n",
    "    missing = [c for c in required if c not in df.columns]\n",
    "    return {'missing': missing, 'shape': df.shape, 'na_total': int(df.isna().sum().sum())}"
   ]
  },
  {
   "cell_type": "markdown",
   "metadata": {},
   "source": [
    "## Part 1 — API Pull (Required)\n",
    "Choose an endpoint (e.g., Alpha Vantage or use `yfinance` fallback)."
   ]
  },
  {
   "cell_type": "code",
   "execution_count": 9,
   "id": "986ecef1",
   "metadata": {},
   "outputs": [
    {
     "name": "stdout",
     "output_type": "stream",
     "text": [
      "Python: /opt/miniconda3/bin/python\n",
      "Collecting yfinance\n",
      "  Downloading yfinance-0.2.65-py2.py3-none-any.whl.metadata (5.8 kB)\n",
      "Requirement already satisfied: pandas>=1.3.0 in /opt/miniconda3/lib/python3.13/site-packages (from yfinance) (2.3.1)\n",
      "Requirement already satisfied: numpy>=1.16.5 in /opt/miniconda3/lib/python3.13/site-packages (from yfinance) (2.3.2)\n",
      "Requirement already satisfied: requests>=2.31 in /opt/miniconda3/lib/python3.13/site-packages (from yfinance) (2.32.4)\n",
      "Collecting multitasking>=0.0.7 (from yfinance)\n",
      "  Downloading multitasking-0.0.12.tar.gz (19 kB)\n",
      "  Preparing metadata (setup.py): started\n",
      "  Preparing metadata (setup.py): finished with status 'done'\n",
      "Requirement already satisfied: platformdirs>=2.0.0 in /opt/miniconda3/lib/python3.13/site-packages (from yfinance) (4.3.7)\n",
      "Requirement already satisfied: pytz>=2022.5 in /opt/miniconda3/lib/python3.13/site-packages (from yfinance) (2025.2)\n",
      "Requirement already satisfied: frozendict>=2.3.4 in /opt/miniconda3/lib/python3.13/site-packages (from yfinance) (2.4.2)\n",
      "Collecting peewee>=3.16.2 (from yfinance)\n",
      "  Downloading peewee-3.18.2.tar.gz (949 kB)\n",
      "\u001b[2K     \u001b[90m━━━━━━━━━━━━━━━━━━━━━━━━━━━━━━━━━━━━━━\u001b[0m \u001b[32m949.2/949.2 kB\u001b[0m \u001b[31m14.6 MB/s\u001b[0m eta \u001b[36m0:00:00\u001b[0m\n",
      "\u001b[?25h  Installing build dependencies: started\n",
      "  Installing build dependencies: finished with status 'done'\n",
      "  Getting requirements to build wheel: started\n",
      "  Getting requirements to build wheel: finished with status 'done'\n",
      "  Preparing metadata (pyproject.toml): started\n",
      "  Preparing metadata (pyproject.toml): finished with status 'done'\n",
      "Requirement already satisfied: beautifulsoup4>=4.11.1 in /opt/miniconda3/lib/python3.13/site-packages (from yfinance) (4.13.4)\n",
      "Collecting curl_cffi>=0.7 (from yfinance)\n",
      "  Downloading curl_cffi-0.13.0-cp39-abi3-macosx_11_0_arm64.whl.metadata (13 kB)\n",
      "Collecting protobuf>=3.19.0 (from yfinance)\n",
      "  Downloading protobuf-6.32.0-cp39-abi3-macosx_10_9_universal2.whl.metadata (593 bytes)\n",
      "Collecting websockets>=13.0 (from yfinance)\n",
      "  Downloading websockets-15.0.1-cp313-cp313-macosx_11_0_arm64.whl.metadata (6.8 kB)\n",
      "Requirement already satisfied: soupsieve>1.2 in /opt/miniconda3/lib/python3.13/site-packages (from beautifulsoup4>=4.11.1->yfinance) (2.7)\n",
      "Requirement already satisfied: typing-extensions>=4.0.0 in /opt/miniconda3/lib/python3.13/site-packages (from beautifulsoup4>=4.11.1->yfinance) (4.12.2)\n",
      "Requirement already satisfied: cffi>=1.12.0 in /opt/miniconda3/lib/python3.13/site-packages (from curl_cffi>=0.7->yfinance) (1.17.1)\n",
      "Requirement already satisfied: certifi>=2024.2.2 in /opt/miniconda3/lib/python3.13/site-packages (from curl_cffi>=0.7->yfinance) (2025.7.14)\n",
      "Requirement already satisfied: pycparser in /opt/miniconda3/lib/python3.13/site-packages (from cffi>=1.12.0->curl_cffi>=0.7->yfinance) (2.21)\n",
      "Requirement already satisfied: python-dateutil>=2.8.2 in /opt/miniconda3/lib/python3.13/site-packages (from pandas>=1.3.0->yfinance) (2.9.0.post0)\n",
      "Requirement already satisfied: tzdata>=2022.7 in /opt/miniconda3/lib/python3.13/site-packages (from pandas>=1.3.0->yfinance) (2025.2)\n",
      "Requirement already satisfied: six>=1.5 in /opt/miniconda3/lib/python3.13/site-packages (from python-dateutil>=2.8.2->pandas>=1.3.0->yfinance) (1.17.0)\n",
      "Requirement already satisfied: charset_normalizer<4,>=2 in /opt/miniconda3/lib/python3.13/site-packages (from requests>=2.31->yfinance) (3.3.2)\n",
      "Requirement already satisfied: idna<4,>=2.5 in /opt/miniconda3/lib/python3.13/site-packages (from requests>=2.31->yfinance) (3.7)\n",
      "Requirement already satisfied: urllib3<3,>=1.21.1 in /opt/miniconda3/lib/python3.13/site-packages (from requests>=2.31->yfinance) (2.5.0)\n",
      "Downloading yfinance-0.2.65-py2.py3-none-any.whl (119 kB)\n",
      "Downloading curl_cffi-0.13.0-cp39-abi3-macosx_11_0_arm64.whl (3.0 MB)\n",
      "\u001b[2K   \u001b[90m━━━━━━━━━━━━━━━━━━━━━━━━━━━━━━━━━━━━━━━━\u001b[0m \u001b[32m3.0/3.0 MB\u001b[0m \u001b[31m2.1 MB/s\u001b[0m eta \u001b[36m0:00:00\u001b[0ma \u001b[36m0:00:01\u001b[0mm\n",
      "\u001b[?25hDownloading protobuf-6.32.0-cp39-abi3-macosx_10_9_universal2.whl (426 kB)\n",
      "Downloading websockets-15.0.1-cp313-cp313-macosx_11_0_arm64.whl (173 kB)\n",
      "Building wheels for collected packages: multitasking, peewee\n",
      "  Building wheel for multitasking (setup.py): started\n"
     ]
    },
    {
     "name": "stderr",
     "output_type": "stream",
     "text": [
      "\u001b[33m  DEPRECATION: Building 'multitasking' using the legacy setup.py bdist_wheel mechanism, which will be removed in a future version. pip 25.3 will enforce this behaviour change. A possible replacement is to use the standardized build interface by setting the `--use-pep517` option, (possibly combined with `--no-build-isolation`), or adding a `pyproject.toml` file to the source tree of 'multitasking'. Discussion can be found at https://github.com/pypa/pip/issues/6334\u001b[0m\u001b[33m\n",
      "\u001b[0m"
     ]
    },
    {
     "name": "stdout",
     "output_type": "stream",
     "text": [
      "  Building wheel for multitasking (setup.py): finished with status 'done'\n",
      "  Created wheel for multitasking: filename=multitasking-0.0.12-py3-none-any.whl size=15636 sha256=5966b6671c424fa1bb949244455b4871e9a4bb6f0ca52124b370a73c960c5ac9\n",
      "  Stored in directory: /Users/wenshan/Library/Caches/pip/wheels/1e/df/0f/e2bbb22d689b30c681feb5410ab64a2523437b34c8ecfc6476\n",
      "  Building wheel for peewee (pyproject.toml): started\n",
      "  Building wheel for peewee (pyproject.toml): finished with status 'done'\n",
      "  Created wheel for peewee: filename=peewee-3.18.2-cp313-cp313-macosx_11_0_arm64.whl size=262659 sha256=979829df2f678603f79dd592b544bb93dfcd0aef986b8c2052192004dedfdeef\n",
      "  Stored in directory: /Users/wenshan/Library/Caches/pip/wheels/1c/48/cc/00b7d0e7defa21a58915654917c89eaedd32a6e614d8e4ad92\n",
      "Successfully built multitasking peewee\n",
      "Installing collected packages: peewee, multitasking, websockets, protobuf, curl_cffi, yfinance\n",
      "\u001b[2K   \u001b[90m━━━━━━━━━━━━━━━━━━━━━━━━━━━━━━━━━━━━━━━━\u001b[0m \u001b[32m6/6\u001b[0m [yfinance]5/6\u001b[0m [yfinance]\n",
      "\u001b[1A\u001b[2KSuccessfully installed curl_cffi-0.13.0 multitasking-0.0.12 peewee-3.18.2 protobuf-6.32.0 websockets-15.0.1 yfinance-0.2.65\n"
     ]
    },
    {
     "data": {
      "text/plain": [
       "0"
      ]
     },
     "execution_count": 9,
     "metadata": {},
     "output_type": "execute_result"
    }
   ],
   "source": [
    "import sys, subprocess\n",
    "print(\"Python:\", sys.executable)\n",
    "subprocess.check_call([sys.executable, \"-m\", \"pip\", \"install\", \"-U\", \"yfinance\"])\n"
   ]
  },
  {
   "cell_type": "code",
   "execution_count": 10,
   "id": "6e79314e",
   "metadata": {},
   "outputs": [
    {
     "name": "stdout",
     "output_type": "stream",
     "text": [
      "yfinance version: 0.2.65\n"
     ]
    }
   ],
   "source": [
    "import yfinance as yf\n",
    "print(\"yfinance version:\", yf.__version__)"
   ]
  },
  {
   "cell_type": "code",
   "execution_count": 30,
   "id": "ff03fb1b",
   "metadata": {},
   "outputs": [
    {
     "name": "stdout",
     "output_type": "stream",
     "text": [
      "Alpha Vantage not usable → Keys returned: ['Information']\n",
      "Falling back to yfinance…\n",
      "Source used: yfinance\n",
      "Validation: {'missing': [], 'shape': (63, 2), 'na_total': 0}\n"
     ]
    },
    {
     "data": {
      "text/html": [
       "<div>\n",
       "<style scoped>\n",
       "    .dataframe tbody tr th:only-of-type {\n",
       "        vertical-align: middle;\n",
       "    }\n",
       "\n",
       "    .dataframe tbody tr th {\n",
       "        vertical-align: top;\n",
       "    }\n",
       "\n",
       "    .dataframe thead th {\n",
       "        text-align: right;\n",
       "    }\n",
       "</style>\n",
       "<table border=\"1\" class=\"dataframe\">\n",
       "  <thead>\n",
       "    <tr style=\"text-align: right;\">\n",
       "      <th></th>\n",
       "      <th>date</th>\n",
       "      <th>adj_close</th>\n",
       "    </tr>\n",
       "  </thead>\n",
       "  <tbody>\n",
       "    <tr>\n",
       "      <th>0</th>\n",
       "      <td>2025-05-16</td>\n",
       "      <td>211.020508</td>\n",
       "    </tr>\n",
       "    <tr>\n",
       "      <th>1</th>\n",
       "      <td>2025-05-19</td>\n",
       "      <td>208.543320</td>\n",
       "    </tr>\n",
       "    <tr>\n",
       "      <th>2</th>\n",
       "      <td>2025-05-20</td>\n",
       "      <td>206.625504</td>\n",
       "    </tr>\n",
       "    <tr>\n",
       "      <th>3</th>\n",
       "      <td>2025-05-21</td>\n",
       "      <td>201.860901</td>\n",
       "    </tr>\n",
       "    <tr>\n",
       "      <th>4</th>\n",
       "      <td>2025-05-22</td>\n",
       "      <td>201.131729</td>\n",
       "    </tr>\n",
       "  </tbody>\n",
       "</table>\n",
       "</div>"
      ],
      "text/plain": [
       "        date   adj_close\n",
       "0 2025-05-16  211.020508\n",
       "1 2025-05-19  208.543320\n",
       "2 2025-05-20  206.625504\n",
       "3 2025-05-21  201.860901\n",
       "4 2025-05-22  201.131729"
      ]
     },
     "execution_count": 30,
     "metadata": {},
     "output_type": "execute_result"
    }
   ],
   "source": [
    "SYMBOL = 'AAPL'\n",
    "USE_ALPHA = bool(os.getenv('ALPHAVANTAGE_API_KEY'))\n",
    "\n",
    "import pandas as pd\n",
    "\n",
    "if USE_ALPHA:\n",
    "    import requests, os\n",
    "    url = 'https://www.alphavantage.co/query'\n",
    "    params = {\n",
    "        'function':'TIME_SERIES_DAILY_ADJUSTED',\n",
    "        'symbol':SYMBOL,\n",
    "        'outputsize':'compact',\n",
    "        'apikey':os.getenv('ALPHAVANTAGE_API_KEY')\n",
    "    }\n",
    "    r = requests.get(url, params=params, timeout=30)\n",
    "    r.raise_for_status()\n",
    "    js = r.json()\n",
    "\n",
    "    keys = [k for k in js if 'Time Series' in k]\n",
    "    if not keys:\n",
    "        print(\"Alpha Vantage not usable →\", js.get('Note') or js.get('Error Message') or f\"Keys returned: {list(js.keys())}\")\n",
    "        print(\"Falling back to yfinance…\")\n",
    "        use_yf = True\n",
    "    else:\n",
    "        key = keys[0]\n",
    "        df_api = (\n",
    "            pd.DataFrame(js[key]).T\n",
    "            .reset_index()\n",
    "            .rename(columns={'index':'date','5. adjusted close':'adj_close'})\n",
    "            [['date','adj_close']]\n",
    "        )\n",
    "        df_api['date'] = pd.to_datetime(df_api['date'], errors='coerce')\n",
    "        df_api['adj_close'] = pd.to_numeric(df_api['adj_close'], errors='coerce')\n",
    "        source_used = 'alpha'\n",
    "        use_yf = False\n",
    "else:\n",
    "    print(\"No ALPHAVANTAGE_API_KEY detected → using yfinance.\")\n",
    "    use_yf = True\n",
    "\n",
    "if use_yf:\n",
    "    import yfinance as yf\n",
    "    # Force auto_adjust=False so 'Adj Close' exists\n",
    "    df = yf.download(SYMBOL, period='3mo', interval='1d', auto_adjust=False, progress=False)\n",
    "\n",
    "    # 1) If columns are MultiIndex like [('Adj Close','AAPL'), ...], collapse to first level\n",
    "    if isinstance(df.columns, pd.MultiIndex):\n",
    "        df.columns = [c[0] for c in df.columns]  # keep 'Adj Close','Close','High','Low','Open','Volume'\n",
    "\n",
    "    # 2) Make date a column\n",
    "    df = df.reset_index()\n",
    "\n",
    "    # 3) After reset_index(), sometimes first col becomes ('Date',''); normalize all tuple cols\n",
    "    df.columns = [c[0] if isinstance(c, tuple) else c for c in df.columns]\n",
    "\n",
    "    # 4) Choose date and price columns robustly\n",
    "    date_col = 'Date' if 'Date' in df.columns else ('date' if 'date' in df.columns else ('index' if 'index' in df.columns else None))\n",
    "    price_col = 'Adj Close' if 'Adj Close' in df.columns else ('Close' if 'Close' in df.columns else None)\n",
    "\n",
    "    if date_col is None or price_col is None:\n",
    "        print(\"DEBUG yfinance columns:\", list(df.columns))\n",
    "        raise KeyError(\"Could not locate date or price columns in yfinance result.\")\n",
    "\n",
    "    df_api = df[[date_col, price_col]].rename(columns={date_col:'date', price_col:'adj_close'})\n",
    "    df_api['date'] = pd.to_datetime(df_api['date'], errors='coerce')\n",
    "    df_api['adj_close'] = pd.to_numeric(df_api['adj_close'], errors='coerce')\n",
    "    source_used = 'yfinance'\n",
    "\n",
    "# Unchanged validator call from your notebook\n",
    "v_api = validate(df_api, ['date','adj_close'])\n",
    "\n",
    "print(\"Source used:\", source_used)\n",
    "print(\"Validation:\", v_api)\n",
    "df_api.head()\n"
   ]
  },
  {
   "cell_type": "code",
   "execution_count": 31,
   "id": "b0457d77",
   "metadata": {},
   "outputs": [
    {
     "name": "stdout",
     "output_type": "stream",
     "text": [
      "Saved data/raw/api_source-yfinance_symbol-AAPL_20250818-011514.csv\n"
     ]
    }
   ],
   "source": [
    "_ = save_csv(\n",
    "    df_api.sort_values('date'),\n",
    "    prefix='api',\n",
    "    source='yfinance',\n",
    "    symbol=SYMBOL\n",
    ")\n"
   ]
  },
  {
   "cell_type": "code",
   "execution_count": 32,
   "metadata": {},
   "outputs": [
    {
     "name": "stdout",
     "output_type": "stream",
     "text": [
      "Saved data/raw/api_source-alpha_symbol-AAPL_20250818-011602.csv\n"
     ]
    }
   ],
   "source": [
    "_ = save_csv(df_api.sort_values('date'), prefix='api', source='alpha' if USE_ALPHA else 'yfinance', symbol=SYMBOL)"
   ]
  },
  {
   "cell_type": "markdown",
   "metadata": {},
   "source": [
    "## Part 2 — Scrape a Public Table (Required)\n",
    "Replace `SCRAPE_URL` with a permitted page containing a simple table."
   ]
  },
  {
   "cell_type": "code",
   "execution_count": 37,
   "id": "df42b7f4",
   "metadata": {},
   "outputs": [
    {
     "name": "stdout",
     "output_type": "stream",
     "text": [
      "Python: /opt/miniconda3/bin/python\n",
      "Collecting lxml\n",
      "  Downloading lxml-6.0.0-cp313-cp313-macosx_10_13_universal2.whl.metadata (6.6 kB)\n",
      "Requirement already satisfied: beautifulsoup4 in /opt/miniconda3/lib/python3.13/site-packages (4.13.4)\n",
      "Collecting html5lib\n",
      "  Downloading html5lib-1.1-py2.py3-none-any.whl.metadata (16 kB)\n",
      "Requirement already satisfied: soupsieve>1.2 in /opt/miniconda3/lib/python3.13/site-packages (from beautifulsoup4) (2.7)\n",
      "Requirement already satisfied: typing-extensions>=4.0.0 in /opt/miniconda3/lib/python3.13/site-packages (from beautifulsoup4) (4.12.2)\n",
      "Requirement already satisfied: six>=1.9 in /opt/miniconda3/lib/python3.13/site-packages (from html5lib) (1.17.0)\n",
      "Requirement already satisfied: webencodings in /opt/miniconda3/lib/python3.13/site-packages (from html5lib) (0.5.1)\n",
      "Downloading lxml-6.0.0-cp313-cp313-macosx_10_13_universal2.whl (8.4 MB)\n",
      "\u001b[2K   \u001b[90m━━━━━━━━━━━━━━━━━━━━━━━━━━━━━━━━━━━━━━━━\u001b[0m \u001b[32m8.4/8.4 MB\u001b[0m \u001b[31m2.1 MB/s\u001b[0m eta \u001b[36m0:00:00\u001b[0ma \u001b[36m0:00:01\u001b[0mm\n",
      "\u001b[?25hDownloading html5lib-1.1-py2.py3-none-any.whl (112 kB)\n",
      "Installing collected packages: lxml, html5lib\n",
      "\u001b[2K   \u001b[90m━━━━━━━━━━━━━━━━━━━━━━━━━━━━━━━━━━━━━━━━\u001b[0m \u001b[32m2/2\u001b[0m [html5lib]1/2\u001b[0m [html5lib]\n",
      "\u001b[1A\u001b[2KSuccessfully installed html5lib-1.1 lxml-6.0.0\n"
     ]
    },
    {
     "data": {
      "text/plain": [
       "0"
      ]
     },
     "execution_count": 37,
     "metadata": {},
     "output_type": "execute_result"
    }
   ],
   "source": [
    "import sys, subprocess\n",
    "print(\"Python:\", sys.executable)\n",
    "\n",
    "# Install one of the parsers pandas.read_html needs\n",
    "subprocess.check_call([sys.executable, \"-m\", \"pip\", \"install\", \"lxml\", \"beautifulsoup4\", \"html5lib\"])\n"
   ]
  },
  {
   "cell_type": "code",
   "execution_count": null,
   "id": "a90415c0",
   "metadata": {},
   "outputs": [
    {
     "name": "stdout",
     "output_type": "stream",
     "text": [
      "Number of tables found: 2\n",
      "Parsed table shape: (503, 8)\n",
      "Columns: ['Symbol', 'Security', 'GICS Sector', 'GICS Sub-Industry', 'Headquarters Location', 'Date added', 'CIK', 'Founded']\n",
      "\n",
      "Preview (top 5 rows):\n"
     ]
    },
    {
     "data": {
      "text/html": [
       "<div>\n",
       "<style scoped>\n",
       "    .dataframe tbody tr th:only-of-type {\n",
       "        vertical-align: middle;\n",
       "    }\n",
       "\n",
       "    .dataframe tbody tr th {\n",
       "        vertical-align: top;\n",
       "    }\n",
       "\n",
       "    .dataframe thead th {\n",
       "        text-align: right;\n",
       "    }\n",
       "</style>\n",
       "<table border=\"1\" class=\"dataframe\">\n",
       "  <thead>\n",
       "    <tr style=\"text-align: right;\">\n",
       "      <th></th>\n",
       "      <th>symbol</th>\n",
       "      <th>security</th>\n",
       "      <th>sector</th>\n",
       "      <th>hq</th>\n",
       "    </tr>\n",
       "  </thead>\n",
       "  <tbody>\n",
       "    <tr>\n",
       "      <th>0</th>\n",
       "      <td>MMM</td>\n",
       "      <td>3M</td>\n",
       "      <td>Industrials</td>\n",
       "      <td>Saint Paul, Minnesota</td>\n",
       "    </tr>\n",
       "    <tr>\n",
       "      <th>1</th>\n",
       "      <td>AOS</td>\n",
       "      <td>A. O. Smith</td>\n",
       "      <td>Industrials</td>\n",
       "      <td>Milwaukee, Wisconsin</td>\n",
       "    </tr>\n",
       "    <tr>\n",
       "      <th>2</th>\n",
       "      <td>ABT</td>\n",
       "      <td>Abbott Laboratories</td>\n",
       "      <td>Health Care</td>\n",
       "      <td>North Chicago, Illinois</td>\n",
       "    </tr>\n",
       "    <tr>\n",
       "      <th>3</th>\n",
       "      <td>ABBV</td>\n",
       "      <td>AbbVie</td>\n",
       "      <td>Health Care</td>\n",
       "      <td>North Chicago, Illinois</td>\n",
       "    </tr>\n",
       "    <tr>\n",
       "      <th>4</th>\n",
       "      <td>ACN</td>\n",
       "      <td>Accenture</td>\n",
       "      <td>Information Technology</td>\n",
       "      <td>Dublin, Ireland</td>\n",
       "    </tr>\n",
       "  </tbody>\n",
       "</table>\n",
       "</div>"
      ],
      "text/plain": [
       "  symbol             security                  sector                       hq\n",
       "0    MMM                   3M             Industrials    Saint Paul, Minnesota\n",
       "1    AOS          A. O. Smith             Industrials     Milwaukee, Wisconsin\n",
       "2    ABT  Abbott Laboratories             Health Care  North Chicago, Illinois\n",
       "3   ABBV               AbbVie             Health Care  North Chicago, Illinois\n",
       "4    ACN            Accenture  Information Technology          Dublin, Ireland"
      ]
     },
     "metadata": {},
     "output_type": "display_data"
    },
    {
     "name": "stdout",
     "output_type": "stream",
     "text": [
      "\n",
      "Validation: {'missing': [], 'shape': (503, 4), 'na_total': 0}\n"
     ]
    }
   ],
   "source": [
    "import pandas as pd\n",
    "\n",
    "URL = \"https://en.wikipedia.org/wiki/List_of_S%26P_500_companies\"\n",
    "\n",
    "tables = pd.read_html(URL)\n",
    "print(\"Number of tables found:\", len(tables))\n",
    "\n",
    "candidates = [t for t in tables if t.shape[1] >= 5 and t.shape[0] > 50]\n",
    "df_web_raw = candidates[0] if candidates else tables[0]\n",
    "\n",
    "print(\"Parsed table shape:\", df_web_raw.shape)\n",
    "print(\"Columns:\", list(df_web_raw.columns))\n",
    "\n",
    "rename_map = {\n",
    "    'Symbol': 'symbol',\n",
    "    'Security': 'security',\n",
    "    'GICS Sector': 'sector',\n",
    "    'GICS sector': 'sector',\n",
    "    'Headquarters Location': 'hq',\n",
    "    'Date first added': 'date_added',\n",
    "}\n",
    "cols_available = [c for c in df_web_raw.columns if c in rename_map]\n",
    "df_web = df_web_raw[cols_available].rename(columns=rename_map)\n",
    "\n",
    "if 'date_added' in df_web.columns:\n",
    "    df_web['date_added'] = pd.to_datetime(df_web['date_added'], errors='coerce')\n",
    "\n",
    "required_cols = [c for c in ['symbol','security'] if c in df_web.columns]\n",
    "v_web = validate(df_web, required_cols) if required_cols else {'missing': ['symbol','security'], 'shape': df_web.shape, 'na_total': None}\n",
    "\n",
    "print(\"\\nPreview (top 5 rows):\")\n",
    "display(df_web.head())\n",
    "\n",
    "print(\"\\nValidation:\", v_web)\n"
   ]
  },
  {
   "cell_type": "code",
   "execution_count": 40,
   "id": "2a7d9557",
   "metadata": {},
   "outputs": [
    {
     "name": "stdout",
     "output_type": "stream",
     "text": [
      "Saved data/raw/web_source-wikipedia_table-sp500_20250818-012150.csv\n"
     ]
    }
   ],
   "source": [
    "\n",
    "keep_cols = [c for c in ['symbol','security','sector','hq','date_added'] if c in df_web.columns]\n",
    "df_save = df_web[keep_cols].copy()\n",
    "\n",
    "if 'symbol' in df_save.columns:\n",
    "    df_save['symbol'] = df_save['symbol'].astype(str).str.strip().str.upper()\n",
    "if 'security' in df_save.columns:\n",
    "    df_save['security'] = df_save['security'].astype(str).str.strip()\n",
    "if 'sector' in df_save.columns:\n",
    "    df_save['sector'] = df_save['sector'].astype(str).str.strip()\n",
    "if 'hq' in df_save.columns:\n",
    "    df_save['hq'] = df_save['hq'].astype(str).str.strip()\n",
    "\n",
    "_ = save_csv(\n",
    "    df_save,\n",
    "    prefix='web',\n",
    "    source='wikipedia',\n",
    "    table='sp500'\n",
    ")\n"
   ]
  },
  {
   "cell_type": "code",
   "execution_count": 42,
   "id": "cca7425b",
   "metadata": {},
   "outputs": [
    {
     "name": "stdout",
     "output_type": "stream",
     "text": [
      "Ticker 'AAPL' found in scraped S&P 500 table? → True\n",
      "Lookup shape: (1, 4)\n"
     ]
    },
    {
     "data": {
      "text/html": [
       "<div>\n",
       "<style scoped>\n",
       "    .dataframe tbody tr th:only-of-type {\n",
       "        vertical-align: middle;\n",
       "    }\n",
       "\n",
       "    .dataframe tbody tr th {\n",
       "        vertical-align: top;\n",
       "    }\n",
       "\n",
       "    .dataframe thead th {\n",
       "        text-align: right;\n",
       "    }\n",
       "</style>\n",
       "<table border=\"1\" class=\"dataframe\">\n",
       "  <thead>\n",
       "    <tr style=\"text-align: right;\">\n",
       "      <th></th>\n",
       "      <th>symbol</th>\n",
       "      <th>security</th>\n",
       "      <th>sector</th>\n",
       "      <th>hq</th>\n",
       "    </tr>\n",
       "  </thead>\n",
       "  <tbody>\n",
       "    <tr>\n",
       "      <th>38</th>\n",
       "      <td>AAPL</td>\n",
       "      <td>Apple Inc.</td>\n",
       "      <td>Information Technology</td>\n",
       "      <td>Cupertino, California</td>\n",
       "    </tr>\n",
       "  </tbody>\n",
       "</table>\n",
       "</div>"
      ],
      "text/plain": [
       "   symbol    security                  sector                     hq\n",
       "38   AAPL  Apple Inc.  Information Technology  Cupertino, California"
      ]
     },
     "metadata": {},
     "output_type": "display_data"
    }
   ],
   "source": [
    "try:\n",
    "    SYMBOL\n",
    "except NameError:\n",
    "    SYMBOL = \"AAPL\" \n",
    "\n",
    "if 'df_web' not in globals():\n",
    "    raise RuntimeError(\"df_web is missing. Re-run the Part 2 scraping cell.\")\n",
    "\n",
    "in_sp500 = SYMBOL in set(df_web['symbol'].astype(str).str.upper())\n",
    "print(f\"Ticker {SYMBOL!r} found in scraped S&P 500 table? →\", in_sp500)\n",
    "\n",
    "df_lookup = df_web[df_web['symbol'].str.upper() == SYMBOL].copy()\n",
    "print(\"Lookup shape:\", df_lookup.shape)\n",
    "\n",
    "display(df_lookup.head(3))\n"
   ]
  },
  {
   "cell_type": "markdown",
   "metadata": {},
   "source": [
    "## Documentation\n",
    "- API Source: (URL/endpoint/params)\n",
    "- Scrape Source: (URL/table description)\n",
    "- Assumptions & risks: (rate limits, selector fragility, schema changes)\n",
    "- Confirm `.env` is not committed."
   ]
  }
 ],
 "metadata": {
  "kernelspec": {
   "display_name": "base",
   "language": "python",
   "name": "python3"
  },
  "language_info": {
   "codemirror_mode": {
    "name": "ipython",
    "version": 3
   },
   "file_extension": ".py",
   "mimetype": "text/x-python",
   "name": "python",
   "nbconvert_exporter": "python",
   "pygments_lexer": "ipython3",
   "version": "3.13.5"
  }
 },
 "nbformat": 4,
 "nbformat_minor": 5
}
