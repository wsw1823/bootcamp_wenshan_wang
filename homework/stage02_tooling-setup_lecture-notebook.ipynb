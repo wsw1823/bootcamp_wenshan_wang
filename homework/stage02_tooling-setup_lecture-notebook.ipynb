{
  "cells": [
    {
      "cell_type": "markdown",
      "metadata": {},
      "source": [
        "# Stage 02 — Tooling Setup: Environment & Config Check\n",
        "\n",
        "*Date: Aug 14 (Thursday) (B)*\n",
        "\n",
        "This notebook verifies your Python environment, `.env` configuration, and a simple NumPy operation. It mirrors the in-class demo."
      ]
    },
    {
      "cell_type": "markdown",
      "metadata": {},
      "source": [
        "## 1. Verify Interpreter\n",
        "Why it matters: different interpreters/versions can produce different results."
      ]
    },
    {
      "cell_type": "code",
      "execution_count": null,
      "metadata": {},
      "outputs": [],
      "source": [
        "import sys, os\n",
        "print(\"Python version:\", sys.version)\n",
        "print(\"Interpreter path:\", sys.executable)"
      ]
    },
    {
      "cell_type": "markdown",
      "metadata": {},
      "source": [
        "## 2. Imports & Installation Check\n",
        "If any import fails, install within your active environment."
      ]
    },
    {
      "cell_type": "code",
      "execution_count": null,
      "metadata": {},
      "outputs": [],
      "source": [
        "try:\n",
        "    import numpy as np\n",
        "    from dotenv import load_dotenv\n",
        "    print(\"Imports OK\")\n",
        "except Exception as e:\n",
        "    print(\"Import error:\", e)\n",
        "    raise"
      ]
    },
    {
      "cell_type": "markdown",
      "metadata": {},
      "source": [
        "## 3. Load `.env`\n",
        "We use `python-dotenv` to load key/value pairs into the environment."
      ]
    },
    {
      "cell_type": "code",
      "execution_count": null,
      "metadata": {},
      "outputs": [],
      "source": [
        "from pathlib import Path\n",
        "load_dotenv()  # looks for a .env file in the current and parent directories\n",
        "print(\".env loaded (if present)\")"
      ]
    },
    {
      "cell_type": "markdown",
      "metadata": {},
      "source": [
        "## 4. Project Config Helper\n",
        "A small helper centralizes configuration access so notebooks stay clean."
      ]
    },
    {
      "cell_type": "code",
      "execution_count": null,
      "metadata": {},
      "outputs": [],
      "source": [
        "# src/config.py (inline demo)\n",
        "from typing import Optional\n",
        "\n",
        "def get_key(name: str, default: Optional[str] = None) -> Optional[str]:\n",
        "    return os.getenv(name, default)\n",
        "\n",
        "PROJECT_ROOT = Path.cwd()\n",
        "DATA_DIR = PROJECT_ROOT / \"data\"\n",
        "print(\"PROJECT_ROOT:\", PROJECT_ROOT)\n",
        "print(\"DATA_DIR:\", DATA_DIR)"
      ]
    },
    {
      "cell_type": "markdown",
      "metadata": {},
      "source": [
        "## 5. Check for API_KEY and DATA_DIR\n",
        "Use dummy values in your `.env` (`API_KEY=dummy_key_123`, `DATA_DIR=./data`)."
      ]
    },
    {
      "cell_type": "code",
      "execution_count": null,
      "metadata": {},
      "outputs": [],
      "source": [
        "api_key_present = get_key(\"API_KEY\") is not None\n",
        "data_dir_env = get_key(\"DATA_DIR\", str(DATA_DIR))\n",
        "print(\"API_KEY present:\", api_key_present)\n",
        "print(\"DATA_DIR from env:\", data_dir_env)\n",
        "\n",
        "# Ensure data directory exists (non-destructive)\n",
        "Path(data_dir_env).mkdir(parents=True, exist_ok=True)\n",
        "print(\"Ensured data directory exists.\")"
      ]
    },
    {
      "cell_type": "markdown",
      "metadata": {},
      "source": [
        "## 6. NumPy Mini-Demo\n",
        "We’ll create an array and perform a simple vectorized operation."
      ]
    },
    {
      "cell_type": "code",
      "execution_count": null,
      "metadata": {},
      "outputs": [],
      "source": [
        "arr = np.array([1, 2, 3, 4, 5])\n",
        "print(\"Array:\", arr)\n",
        "print(\"Mean:\", arr.mean())\n",
        "print(\"Vectorized * 10:\", arr * 10)"
      ]
    },
    {
      "cell_type": "markdown",
      "metadata": {},
      "source": [
        "## 7. Documentation Practice\n",
        "Add a markdown cell in your own repo explaining:\n",
        "- Your environment creation command\n",
        "- Why `.env` matters\n",
        "- What the NumPy demo shows"
      ]
    },
    {
      "cell_type": "markdown",
      "metadata": {},
      "source": [
        "## 8. (Optional) Git Status Preview\n",
        "If your environment allows shell commands from notebooks, you may run the next cell. Otherwise, do this in your terminal."
      ]
    },
    {
      "cell_type": "code",
      "execution_count": null,
      "metadata": {
        "tags": []
      },
      "outputs": [],
      "source": [
        "# !git status\n",
        "print(\"Run git commands from terminal for reliability.\")"
      ]
    },
    {
      "cell_type": "markdown",
      "metadata": {},
      "source": [
        "## 9. Wrap-Up Checklist\n",
        "- Environment active and imports succeed\n",
        "- `.env` loaded and keys accessible via `get_key`\n",
        "- `requirements.txt` frozen from this env\n",
        "- Notebook re-runs top-to-bottom without errors"
      ]
    }
  ],
  "metadata": {
    "kernelspec": {
      "display_name": "Python 3",
      "language": "python",
      "name": "python3"
    },
    "language_info": {
      "name": "python",
      "version": "3.11"
    }
  },
  "nbformat": 4,
  "nbformat_minor": 5
}